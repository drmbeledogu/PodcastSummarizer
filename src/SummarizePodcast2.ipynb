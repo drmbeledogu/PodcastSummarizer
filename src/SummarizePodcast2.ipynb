{
 "cells": [
  {
   "attachments": {},
   "cell_type": "markdown",
   "metadata": {},
   "source": [
    "# Podcast transcriber and summarizer\n",
    "\n",
    "This notebook is split into two separate parts.\n",
    "1. **Podcast transcription** - The first part of the notebook aims to convert the speech of a podcast to text and output the results\n",
    "2. **Summarizer** - The second part of the notebook aims to convert the the long form podcast transcription to a summary that captures important details of the podcast\n",
    "---"
   ]
  },
  {
   "attachments": {},
   "cell_type": "markdown",
   "metadata": {},
   "source": [
    "### Import relevant packages\n",
    "\n",
    "Two packages are required for this notebook to run properly, the OpenaAI package and the pydub package. Each of these packages requires their own nuance to work properly so details are provided below:\n",
    "\n",
    "* **OpenAI** - The openai package contains the API responsible for accessing the whisper and ChatGPT models that power the transcriber and the summarizer. There are several steps to get this working properly.\n",
    "    - **Installing the openai package** - Installing the openai package is simple, just run `pip install openai` from the terminal or command line. \n",
    "    - **Generating an API key** - If you have an API key and do not know it or haven't generated an API key at all, you can access your key here https://platform.openai.com/account/api-keys. Instruction are pretty straight forward for generating a key\n",
    "* **Pydub** - Pydub (https://github.com/jiaaro/pydub) is a package designed for audio manipulation in python. To quote the github page \"Pydub lets you do stuff to audio in a way that isn't stupid\". Pydub is also not the most straight forward to install so instructions are listed at this link (https://github.com/jiaaro/pydub#installation) and below as well.\n",
    "    - **Installing the pydub package** - Installing the pydub package is simple, just run `pip install pydub` from the terminal or command line.\n",
    "    - **Installing dependencies (ffmpeg)** - Python cannot natively read in mp3 files. Only wav files so an extra program must be installed to handle this. This is ffmpeg. This link (https://phoenixnap.com/kb/ffmpeg-windows) provides the best set of instructions to download the package. Make sure to add FFmpeg to the PATH environment variable on your local machine, which is described in the link."
   ]
  },
  {
   "cell_type": "code",
   "execution_count": 253,
   "metadata": {},
   "outputs": [],
   "source": [
    "#Import relevant packages\n",
    "\n",
    "import openai \n",
    "API_KEY = ''    #use instructions above to get this key\n",
    "\n",
    "\n",
    "from pydub import AudioSegment\n",
    "\n",
    "#Specifying path for pydub mp3 reader binaries. Use proper path for you\n",
    "AudioSegment.converter = \"C:\\\\ffmpeg\\\\bin\\\\ffmpeg.exe\"\n",
    "AudioSegment.ffmpeg = \"C:\\\\ffmpeg\\\\bin\\\\ffmpeg.exe\"\n",
    "AudioSegment.ffprobe = \"C:\\\\ffmpeg\\\\bin\\\\ffprobe.exe\""
   ]
  },
  {
   "attachments": {},
   "cell_type": "markdown",
   "metadata": {},
   "source": [
    "### 1. Podcast transcription\n",
    "\n",
    "The following cell uses the Pydub library to:\n",
    "1. Create an AudioSegment object from the raw mp3\n",
    "2. Chunk the AudioSegment object into 10 minute pieces which is the maximum size that the Whisper API will accept\n",
    "3. Write the chunks to new mp3 files\n",
    "4. Use the Whisper API to transcribe the chunks\n",
    "5. Combine transcriptions into one long text"
   ]
  },
  {
   "cell_type": "code",
   "execution_count": 65,
   "metadata": {},
   "outputs": [],
   "source": [
    "# 1. Import relevant API key and audio\n",
    "\n",
    "podcast_file_path = \"NPR_podcast.mp3\"                    #use your file path here\n",
    "podcast_audio = AudioSegment.from_mp3(podcast_file_path)"
   ]
  },
  {
   "cell_type": "code",
   "execution_count": 10,
   "metadata": {},
   "outputs": [],
   "source": [
    "#2. Chunk audio into segments\n",
    "\n",
    "segment_duration = 10*60*1000                                # 10 minute chunks on a millisecond basis\n",
    "num_segments = int(len(podcast_audio)/segment_duration) + 1  # Calculate number of chunks in the podcast\n",
    "\n",
    "#3. Loop for extracting chunks from AudioSegment object and re-writing the chunk as na mp3 file\n",
    "for i in range(num_segments):\n",
    "    segment = podcast_audio[i*segment_duration:(i+1)*segment_duration]\n",
    "    segment_file_path = podcast_file_path[:-4] + ' segment ' + str(i) + '.mp3'\n",
    "    segment.export(segment_file_path, format='mp3')"
   ]
  },
  {
   "cell_type": "code",
   "execution_count": 66,
   "metadata": {},
   "outputs": [],
   "source": [
    "# 4. WhisperAPI to transcribe audio segments\n",
    "\n",
    "transcripts = []\n",
    "for i in range(num_segments):\n",
    "    audio_file_path = podcast_file_path[:-4] + ' segment ' + str(i) + '.mp3'\n",
    "    audio_file = open(audio_file_path, 'rb')\n",
    "    \n",
    "    #This is the whisper API. Any extra arguments can be added here\n",
    "    audio_response = openai.Audio.transcribe(\n",
    "        api_key=API_KEY,\n",
    "        model='whisper-1',\n",
    "        file=audio_file,\n",
    "    )\n",
    "    transcripts.append(audio_response['text'])"
   ]
  },
  {
   "cell_type": "code",
   "execution_count": 259,
   "metadata": {},
   "outputs": [
    {
     "name": "stdout",
     "output_type": "stream",
     "text": [
      "The number of words in this podcast is 8113\n",
      "Hey, it's Andy Grace, co-host of White Lies. Now that our second season's wrapped, we wanted to give you something else to listen to. It's a new series from NPR called Taking Cover. And one of the hosts, Graham Smith, was our producer on the first season of White Lies. In fact, it was just as season one was wrapping up that Graham was approached by longtime NPR correspondent Tom Bowman to help dig into a tip he'd gotten about a cover-up of a friendly fire incident in Iraq in the spring of 2004. It's a gripping story that they've been uncovering for years now. You can find the whole series in the embedded feed. I'll let Tom and Graham take it from here. Before we get started, you should know that this podcast contains graphic depictions of war and we're talking to Marines, so there's a lot of cursing. Camp Pendleton in Southern California is the west coast home of the United States Marine Corps. It's 200 square miles of hills and wetlands and long stretches of beach just outside San Diego. On its edge, there's a sharp hill covered with scrub trees and bushes that overlooks the Pacific Ocean. It's called Hornow Ridge, and over the last 20 years, it's become a place of pilgrimage where Marines sweat and suffer to honor their dead. The hike up is steep and rocky, with two false summits, and at the top, a small field of crosses and memorials. Dozens of them, of all sizes, some pieced together from tree branches or lumber, some weighing hundreds of pounds, each one carried up by Marines and sailors. Scott Radetzky has climbed Hornow Ridge many times. There are hundreds, perhaps thousands, of keepsakes and mementos. I mean, everything from a coin to a wedding ring to, you know, a medal, a Purple Heart to, I don't know, bottles of liquor, you know, that were poured out, you know, a drink for their fallen comrade. Radetzky is a retired chaplain. He doesn't like the messy piles of empty bottles and cans, but he knows they're only part of what people leave behind on the ridge. More important are the unseen burdens, the sorrow, the sadness. The anger, regret, here's a big word, shame. When someone dies and you don't, the grief that's there, survivor's guilt, and hopefully the lingering that takes place on the hill is part of that, that you can move past the horrific things that you've maybe seen or done. Chaplain Radetzky got the Hilltop Memorial started in the spring of 2003. His unit lost a Marine in Iraq, killed just minutes after the invasion began. Months later, those Marines were back at Pendleton preparing for yet another deployment to Iraq. And that death, it still hung over them. One day the chaplain gets an idea. He finds some sections of old telephone pole and bolts them together. The Marines already trained on the ridge, he thought maybe the pain and suffering of carrying this massive cross up the trail could create a bond. And they'd leave the cross itself on top as a memorial. So Radetzky and six others, two officers, two riflemen, and two medics, become the first to do just that. They carry the cross on their shoulders up until almost the end. The final stretch is so steep they have to push it, drag it, a foot or two at a time, until they reach the top. And they're the ones who inspired this field of crosses, which grows year after year as the wars in Iraq and Afghanistan drag on. In time, three of the seven men who carried and pushed that first cross up the trail in the summer of 2003 would themselves be memorialized on Horner Ridge. One was killed in a firefight in Baghdad, another by a roadside bomb. And that last Marine, his death has always been kind of a mystery. A mystery we've spent the last three years investigating. Not just because of this one man, others died with him, but because as we started to find out it was all part of a greater tragedy, covered up by powerful people looking to keep the American public and even the families of those who died from hearing the truth. It's a story about mistakes, faulty assumptions, miscalculations, lies. This is Taking Cover from NPR. I'm Tom Bowman. And I'm Graham Smith. This is the story of our efforts to learn about the lives lost and why families and even the men who were badly wounded still don't know the truth about what happened to them on the worst day of their lives. See the hole in the building? It's like a square. And when they launched that mortar, it hit. Boom. I mean, one out of a million shot. We're sitting on those stairs and he looked really pale and he looked shaken and I don't think he'd slept. And he said, Doc, I think I fucked up. And I was like, well, what did you fuck up? And he's like, well, I can't really talk about it, but I think I fucked up. I think I fucked up. They're hiding something for a reason and they don't. There's something that hasn't been disclosed yet. There's got to be something. Why are they keeping it such? Why did they keep it a secret to begin with? The fact that nobody has said anything concrete, no paperwork, nothing. And I'm just now finding out there was even an investigation. That's kind of unsettling. I don't care. So why he didn't tell us? Why he lied to us? That's I want to know. Well for us, this whole thing started with a tip, a stunning and disturbing allegation from a trusted source. How's it going? Good. All good. That was a final security check now in the building itself. The building. That's what people here call the Pentagon. I've worked here covering the U.S. military for the last 25 years. Walking along the E-ring, typical morning, you see people in the hallway. Nothing's in China. That report came out. I learned from NPR. I thought that we were... I might run into a colonel I knew in Afghanistan or a general visiting from his overseas command who can tell me what's really going on. But there are some things, well, people just don't want to talk about in the building. So I might call them at home at night or we might meet up at a bar. Which is what happened one night at a whiskey bar in D.C. Actually this very bar. A guy who spent a lot of time in Iraq told me a story very few people knew. He told me that early in the Iraq war, there'd been this tragedy. U.S. Marines had dropped a mortar or a rocket on their own people. That's what they call friendly fire. Now in this case, he said, one Marine was killed and another seriously wounded. Friendly fire deaths, they happen. They happen in every war throughout history. That's not what made his story shocking. Here's the thing. He said that the Marine brass had actually covered it up, bearing the truth about this terrible incident because he said the son of a powerful politician was involved in the screw-up. Graham came to me the next day, asked if I could help dig on this tip he'd just gotten. Since 9-11, Graham and I have spent years reporting from combat zones. We've gone on dozens of patrols. Dug foxholes together. And come under attack while embedded with Marines and soldiers. He's working on the investigations team now and it felt like we could team up again. The source who gave me this tip, he was, you know, a little fuzzy on the details. This Marine had been killed in the spring of 2004 in Fallujah. The Iraq War, if you lived through it, covered it, maybe fought there, feels like it was just yesterday. But this is 20 years ago now. And we know for some folks, this is ancient history. Maybe you were five when it kicked off. So very basics. The U.S. invaded at the beginning of 2003 and within a few weeks defeated the Iraqi army, though they never found any of the weapons of mass destruction that were the whole reason for going in. Chemical, biological, maybe nuclear. They found nothing. Still, the Americans occupied the country. They were running things. They figured they'd won. What they didn't realize, a new war was just beginning. Because a lot of Iraqis hated the American occupiers. They felt humiliated, brutalized. And this city of Fallujah, it's where the whole nature of the war started to change. It became the center of an insurgency that America would fight to this day, really. So was there a friendly fire incident there? There was a major battle there in 2004 in the spring. It didn't last long, just a couple of weeks in April. and these days there are pretty good online lists of casualties. So we did what anybody would do. Quick Google search. It was a deadly month both for Iraqis and for the U.S. Nearly 150 American troops were killed, 27 of them in Fallujah. That narrowed things down a bit, but still, none were listed as friendly fire. Nothing seemed to fit. For weeks we poured through small town newspaper obituaries and press releases the Pentagon sends out whenever a service member is killed. Finally, we got a break. It was on one of those memorial web pages, like the ones funeral homes set up for family and friends to leave condolences. Only this site is for fallen Marines. And the entries for two different Marines killed on the same day, Robert Zurheide and Brad Schuter, actually told a different story from the military press releases. Each of the two pages said the Marine was killed by friendly fire rather than hostile, like the military reported. And they were both from the same unit, Echo Company, 2nd Battalion, 1st Marine Division. Or as the Marines would say, Echo 2-1. And another thing caught our attention, a comment from someone named Corporal Gomez Perez. He wrote, April 12th is always on my mind and every time I think about it I just get mad. Man, it's bullshit what happened. Now the initial tip was one dead, one wounded. But here we have two Marines from the same unit who died on the same day. Was this the friendly fire? We filed a records request with the Marines looking for any information about this incident. Was there an investigation? Now this is where things get weird. It usually takes months to get an answer from the government. But here, after just a couple of weeks, we got a response. A thorough search was made, the letter said. No records on file. No records? It made no sense. Look, the military investigates and documents everything. Whether it's a major screw up or just someone losing a piece of gear. Two Marines killed? Even if it wasn't friendly fire, there should be some record of the day. We filed an appeal, asking them to look again. It was incredibly frustrating. But you know what? There are other ways. I started asking around at the Pentagon, calling up both active duty and retired officers, especially those who served in Iraq. Have you guys ever heard about this? Who was involved? We'll hear more about that later. With Tom working the brass, I went looking for grunts, the guys who served in Echo Company. I dug through books about the fight in Fallujah, including one called No True Glory. I knew the unit, Echo 2-1, and the names of the Marines who died, plus a date, April 12th. But across 378 pages, there is no mention of a friendly fire incident that day or any other. In fact, no mention of April 12th at all. It was as if nothing had happened that day in Fallujah. But I did find one clue. That Corporal Gomez Perez from the Memorial webpage? There's a picture of him in the center of this book, staring into the camera, half his shoulder torn away by a bullet. The book says he was with Echo 2-1. Between that and the comment, April 12th is always on my mind and every time I think about it I just get mad, I figured that Corporal, Carlos Gomez Perez, must have been with Shooter and Zurheide when they were killed. I found a number and called him. He was on the road. He works in the cannabis industry now. We set up a time to talk the next day. That's ahead on Taking Cover from NPR. This message comes from NPR sponsor, Mint Mobile. Mint Mobile is the first company to sell premium wireless service online only, letting you order from home and save a ton. Phone plans starting at just $15 a month. All plans come with unlimited talk and text plus high-speed data delivered on the nation's largest 5G network. To get your new wireless plan for just $15 a month and get the plan shipped to your door for free, go to MintMobile.com slash switch. Support for NPR and the following message come from Guayaquil Yerba Mate. When co-founder Alex Prior left Argentina for college, he brought along one of the comforts of home, Yerba Mate, a drink known as a symbol of friendship and hospitality. Alex's college classmate, David Carr, was inspired by Mate's energizing properties. The pair grew their love for Yerba Mate into a business with the help of friends. Visit Guayaquil.com to learn more and share the power of Yerba Mate. Hey, Carlos. Hi, good morning. How are you doing? Hey, I'm great. It's good to hear you, man. It turns out Carlos was part of Echo Company for the 2003 invasion, too. So he served with Jose Gutierrez. He was the Marine memorialized with that first cross on Horno Ridge. They were pretty good friends. And like Gutierrez, Carlos says he first came to America illegally. I grew up in Mexico City. I grew up in Mexico City. And when I was nine, I ran across the border to get to San Diego. We got caught. So I got, got pushed in jail. He kept trying. Looking back now, it's clear from those trips across the desert that Carlos was already driven by character traits that the Marines champion. I called it my first mission, honestly. After being in the Marine Corps, I called it my first mission because basically I was always in the rear. Not because I couldn't keep up, but to ensure that everybody in front of me was making it, making its way forward. He finally made it. Grew up undocumented, not far from Ken Pendleton. And as soon as he turned 18, he became a U.S. resident. Basically, just so he could join the Marines. I was told that the Marine Corps was the hardest branch of the military. So I'm like, let's see if that's true. I'd read in that book, No True Glory, about the battle where Carlos had been wounded and how he was recognized for his valor that April. So forgive my ignorance, did you get a Silver Star? Yes. I was awarded the Silver Star and I didn't know what Silver Star was, so I had to Google it before I received it. It's kind of strange he had to Google it because the Silver Star is a big deal, just two steps below the Medal of Honor. It recognizes conspicuous gallantry. That means ignoring the danger, putting your life on the line to help fellow Marines in combat. When Carlos got home, he was pretty messed up. Not just his shoulder, but mentally. Sure enough, April comes around, unintentionally my mindset goes somewhere else. My body reacts differently, emotion-wise. But it's now, it's been so long that my son feels the same way. April rolls around, his whole demeanor changed. He's been in treatment for PTSD and he's getting better, but Carlos says his family suffered with him. In what sense does it fit that my son's 14 years old and I tell him, I wish I would have died in Iraq rather than come back? Not because I don't love you, not because you don't mean the world to me, because if I would have died, it would have ended right there. We talked about the incident, April 12th, that whole month fighting in Fallujah, and how it still lingers for him, almost 20 years later. Carlos, he's still the kind of Marine who keeps tabs on his buddies, looking to make sure everybody makes it forward. And over the next two years, he helped us to get in touch with some of them, including Ben Liotta, Doc Liotta as they call him. Ben was traveling in South America with his girlfriend, a musician, when I reached him. I set up a time to talk and a week later, I called him from a studio here at NPR. I hear a ring. Hello. Hey Ben. Yes. Graham here. Graham. How you doing, Graham? Okay. Hey, thank you so much. He was in the Navy, a battlefield medic for the Marines. He said he'd been there when the explosion took place. You were corpsman, right? Yeah. Can you tell me, well, would you mind just telling me your name and where you're from, just the sort of basics so I can make sure I don't screw that up? Real quick before we get into it, I just wanted to ask a couple questions myself. What is the purpose of your documentary? Well, I'll tell you the truth. Right now, I'm still kind of trying to... I told him about a clue I'd found. Echo Company's captain, Doug Zembeck, wrote a letter to his wife on April 12th, 2004. He wrote, one of my Marines called in a mortar mission. The round landed short, killed two of my Marines. Zembeck's wife published the letter years later in a book about their relationship and his death. But from the letter, it's clear the company commander knew immediately it was friendly fire. And one of the things specifically that came out was how long it had taken to notify the families in this incident. So it's about that. Yeah. So that's where I'm at. Yeah. I mean, I will say this. I am always down for the truth to come out. I mean, I think we both understand the climate today is insane, and I'm not looking to be a part of a smear campaign that's meant to make the Marines look bad. You know what I mean? I mean, if your goal is truce, I'm down with that. Yeah. I mean, I've spent a lot of time with Marines over in Afghanistan. I went in 2009 with two eight out of Lejeune on the whole like insert into the Helmand river valley and, you know, dropped in with them on the helicopters. So you've been through the old shit. Yeah. Yeah. And let me preface this whole thing by saying I, you know, like even after talking to Carlos, you know, I was like back in the zone for like a week. And my wife was like, why are you being such a bitch? And, you know, because it's been me this whole week waiting for this call. Yeah. Cause it, it, it, it, you can't not respond to it on those levels. And I, and so thank you. No, I appreciate that. And no problem. Yeah. All right. So let's, let's do this officially and name and where I'm from. Yeah. My name is Benjamin Leota. I'm originally from a kind of all over New York. Ben Leota was just one of the men we talk with as we try to unravel this mystery about Echo company. If we're going to get to the bottom of the allegation about a coverup, we first had to understand more about what happened on the ground. Bill Skiles was there. He's a retired Sergeant major invited us to his house in Virginia, about an hour South of DC. Just before we even get into this stuff, I, uh, we are obviously in your Marine room or something. What do you call this place? It's my Marine room. So some of these are replicas of weapons. These are, these are, he pours us a couple of whiskeys and settles down into a leather recliner. So expectations going, we never heard of the city. Skiles was a right-hand man to company commander Doug Zembeck. I remember Zembeck going on a map in the hallway in camp Horno. We're going to a place called Fallujah or what the hell? They got back to Iraq in March. In our compound, it was called camp Volturno and we renamed it camp Bahariya, Navy term. We called it camp diarrhea. Of course we did. Terrible place. So here we are, a battalion of Marines going to Fallujah. Remember President Bush said as of what, May of, of 03. Major combat operations in Iraq have ended. The war's over. In the battle of Iraq, the United States and our allies have prevailed. So okay. Yay. So what did I? Mission accomplished. Yeah. Anyway, so we go up there and the expectations of all the Marines, I mean, we actually played football. I remember being a quarterback. We spent more than five hours with Bill Skiles that night. Between what he told us, Carlos and Ben and dozens of others, plus audio recorded in the city that month, we've pieced together this account of their arrival in Fallujah and the days leading up to the April 12th explosion that killed Brad Shooter and Rob Zurheide. This is taking cover from NPR. This episode is brought to you by Carvana. Carvana is in the business of driving you happy and saving you time. That's why they have thousands of car options to purchase online and offer as soon as next day delivery. Visit carvana.com or download the app to shop for a vehicle. This message comes from NPR sponsor, Mint Mobile. Mint Mobile is the first company to sell premium wireless service online only, letting you order from home and save a ton. Phone plans starting at just $15 a month. All plans come with unlimited talk and text plus high speed data delivered on the nation's largest 5G network. To get your new wireless plan for just 15 bucks a month and get the plan shipped to your door for free, go to mintmobile.com slash switch. This message comes from NPR sponsor, BetterHelp. Take time for yourself with BetterHelp, offering convenient online therapy on your schedule. Visit betterhelp.com slash NPR today to get 10% off your first month. We just got in the briefs. The new commander had some, you know, words, wisdom. We were doing all the Mattis, the Matt Dogg-isms because he was our division commander. Brigadier General James Mattis. Years later, Mattis served as defense secretary under Trump, but Iraq is where he made his reputation, became an icon in the Marine Corps with nicknames like Mad Dog, St. Mattis. He's very quotable. Um, no, no greater friend, no worse enemy. We're here with the velvet glove approach. It's late March. The Marines are in Fallujah to take over from the Army. You will go in there and win their hearts and minds. You gotta be there almost as police officers. I'm like, okay, fine. We'll do that. It was, it was something far, far from the truth. We thought we were moving in for like security and stability, you know, win the hearts and minds of the people. And it seemed like that was just not something the locals in Fallujah were interested in. One reason, the heavy handed tactics of the 82nd Airborne, the Army unit they were replacing. I mean, I looked it up and everything online said it was a hornet's nest. You know, you read everything that the 82nd Airborne went through over there. And, uh, we still were like more like, we just didn't know what to expect. And then we got there and started asking the Army how everything was. And it seemed like the Army didn't really know what they were doing. And, uh, like, I don't mean to say that just to talk crap, but from their own stories, they were like, no, we just drive through and don't even stop when we hit somebody. And like, we just shoot when we're shot at without even knowing what we're shooting at. And it's just like, wow, I think there's a reason they don't like you. All I know is we prepared for hugging and kissing and, and love and, and, and just spreading the gift of, of giving. Battle was thought about a little bit, but interesting to see through satellite imagery during April, how many were coming in, crossing Euphrates to come at us. The great Jihad was coming. So then you had the insurgents coming. Insurgents became recruiters. Oh, I saw the Army shot up your house. I saw the Army shoot your hospitals. I saw the Army shoot your schools. I saw the Army destroy your vehicle, which was your only means of work. Come help us. Get back at them. The Army at that time was the best recruiters for the combat that was about to happen. You know, in one way, the Army tactics, riding in their vehicles rather than patrolling on foot, worked. For them, they took few casualties. They had one dead, 10 wounded. So they're there for six months, seven months, one dead, 10 wounded. And this is important to remember that, because Marines have landed now. We're back. And all of our arrogance, we're back. Okay. But this time you can feel the difference. The first time in Iraq, I'm walking through the streets in patrol, and people are smiling. They're saying, go push, thumbs up, Mr. Mr., we love you, whatever. Second time around, going to the streets of Lusia, the demeanor was different. I remember having pins, and we had soccer balls that weren't inflated. I couldn't find air. So we'd throw some soccer balls that were inflated. I remember the kid flipping me off because I gave him a soccer ball without air. You could see hate in the people's eyes. There's no little kids running to us this year, what the hell is going on? The day the Marines took over, there was a mortar attack at Fallujah's City Hall. Now, a mortar, if you're not familiar, it's kind of like a grenade, but shaped like a bowling pin. Recently, we watched some Marines train, launching them out of metal tubes set on tripods. The round rises high up into the sky and drops down onto the target with a deafening explosion. Boom, a mortar hit here. Then, okay, it's kind of like, welcome, Marine Corps, welcome back. Thirteen Americans are wounded. Skiles and Captain Zembeck help evacuate the casualties, get soaked in blood. Once we got back, Zembeck and I walked to the chow hall with the same camis we had. He was a lot more red. I remember the company looking at us going, this is not fucking canvas anymore. April is fast approaching, and that hearts and minds thing, that's not going well. The day after that mortar attack, the Marines lose their first man. An insurgent fires a rocket propelled grenade at a Marine truck. An RPG hit the Marine vehicle dead stopped. RPG got him and killed him. Next day, General Mattis, personally, they killed a Marine. Send in the Marines. I can't blame somebody for getting revenge. You know, you don't fuck with the Marine Corps. We're back, and how dare you? So send a company in. And he gave everyone a chance to get out. And basically, we dropped leaflets and did loudspeakers and we were like, if there's a fight coming, if you don't want to fight, get the fuck out of the city right now. Meanwhile, people were streaming out, fighters were streaming out. dreaming in. Like we were going through this open like courtyard thing and I always thought something was off. We're walking down and we turn to the right and I'll never forget this little Iraqi girl came out and she kept pointing down like she's pointing down the street and I mean I'm looking at her and I'm like alright either she's warning us or a signal. So it's one of the two. Wow. That's kind of a brave little girl right there if she was warning. Yeah. I guess she was warning us because as soon as we turned the corner to the left shots came down from the roof everything and one of them hit Elrod and they almost got Doc Watt because he was he got against the wall and all the bullets started spraying up on the side and I'm like so. It was all a video game to me to be honest. It was until someone got shot. It was all surreal. I do remember that. I remember once Eric Elrod got hit it all stopped being a game to me. It all stopped being interesting. Oh yeah. And I started to just get my head right take it in the right way. The Marine offensive was having an effect. Two days went by. It was evil. No more mosques. No more prayers. I mean we went in the city and killed a couple of them or more who drew first blood. We killed a Marine General Mattis go in there teach him a lesson. We didn't teach anybody a lesson. It turns out the insurgency was waiting for a chance to teach the Americans a lesson. We're going to begin with Iraq this evening. Four American civilians were killed there today and as sometimes happens the cameras were there for the gruesome aftermath. Here's ABC's John Berman. On the streets of Fallujah the brutal attack was met with celebration. We are from Fallujah they chanted. This is our work. Witnesses say the two SUVs were ambushed as they drove through town. It isn't just ABC. The mangled and charred remains of Blackwater contractors hanging off a bridge flash across TV screens around the world. A clear message from the insurgents. They didn't kill them they killed them 20 times over. They couldn't get to us so they want to take it out on those four. This is the last thing the White House needs. Almost a year after mission accomplished troops still haven't found any evidence of the alleged weapons of mass destruction. The insurgency is growing stronger. Support for the war back home is dropping. These are Americans dismembered burned. The White House doubles down. The Marines are ordered to clear Fallujah. Some of us had recently returned from a patrol like outside the wire a little bit. I remember just over the loudspeaker announcement was made you know all Marines report back to your company areas. Hearts and minds forget it. General Mattis is forced to drop the velvet glove. The mission now search and destroy. That night Captain Zembeck jumps up on the hood of a truck to motivate the men. It's pitch black but you see a figure. The line of Fallujah there he is. Marines this is our Okinawa. This is our 10 offensive. This is our Saipan. This is our time in history. Pretty cool. And he goes we're fighting for look to your left and right. Those your brothers you're fighting for him. Don't you ever disrespect or dishonor the American flag and what we stand for. To our history of battle in the Marine Corps. He finishes with this. May the dogs of Fallujah eat hearty off our dead enemy. May the dogs of Fallujah eat hearty off our dead enemies. By now it's the early hours of April 1st. That's when the Hornets nest started. Oh no that was that was full on. We're taking over the city in a whole not like we tried to be nice. Now it's we got to do what we came here to do. And that's where we just started going through. We didn't even allow the idea of what this city is going to look like after the fact influence how we fought. And what I mean by that is if you needed to put a tank main gun round into a building you put a tank main gun round into the building. You know if we needed to blow down trees to clear our fields of fire we blew down trees to clear our fields of fire. Every day it was kicking in doors house to house clearing operations sometimes with fights and a lot of times it would be the house next door would have some some bad guys in it and then the Marines would assault towards that house and the bad guys would pack up and move on down the block some you know it was kind of like chasing a ghost almost. So yeah we we were in the fight we had the enemy on their heels. For more than a week the men of Echo Company and about 3000 other Marines pushed into Fallujah. Vast neighborhoods of concrete buildings normally housing 280,000 people. The US military says some insurgents are using children to spot targets for them and deliberately firing from heavily populated areas inside Fallujah. The Al Jazeera TV network sends out brutal images of hospitals crowded with dead and wounded some of them women and children. Other networks run the footage too. Hospitals are full and doctors say they're running out of medical supplies. Iraqis claim hundreds of civilians have been killed or wounded in the last four days. It's too dangerous to bury the dead. Iraqi politicians threaten to resign if the Americans don't stop the assault. That would be a disaster because the Americans are just about to hand responsibility for governing the country over to their Iraqi allies. So the White House orders the Marines to stop. We've been going for about a week and we're told to cease fire. Like what? Yeah, cease fire. We don't have force forward anymore? No, we can't. Okay, fine. Cease fire. And just to be clear, you know, we talk about a cease fire. Cease fire was in effect for US forces but the insurgents didn't have that same order. And so we were in gunfights on a daily basis throughout. Well the running joke was that there was a pause in combat operations and eventually the enemy guys had agreed that they were going to turn their weapons in and stop fighting. It was just that the joke was that they were going to turn in all their ammo first because they never stopped, they never paused. They just kept shooting at us all the damn time. We get to a schoolhouse. We stopped there and now we're in a schoolhouse. That's when CNN got invaded with us. Tomasz Etzler from CNN. So what happened, you know, in the morning they took us to the school. They were kind of sticking out from the line of the houses which the Marines occupied behind them. Now, Marines are quick to tell you. In combat they move, shoot and communicate. But now they're forced to hunker down at the schoolhouse. Think of like a rectangular shaped building and there's an open courtyard so there wasn't no roof over that area. I know we were digging in for the long haul because they had me dig a shitter. And then we, you know, sandbags around the windows like typical, sandbags around the engines. So we were just kind of like, hey man, let's block this up just in case. Like, you know, mortars were being launched. So go forward a couple of days. Tell me, tell me about the 12th. I mean, it started as a normal day. We like, everybody wakes up, we're smoking and joking. And then... So we have our first, we have our first watch in the morning, my team. So we got word that we were going to get attacked at night. So I'm like, OK. There was still kind of a very sporadic gunfight going on. And at one point, and it was already April 12th, the school was hit by an RPG. But the RPG hit the corner of the school. You know, it shook the whole school. It shook, you know, it made a bit of noise. That morning was the first time I remember getting blown up. I was in a window in that schoolhouse. Went over to pick something up, sat back up, and some asshole shot an RPG at the window. Rang my bell pretty good. They wouldn't let me sleep for like 12 hours. Robert came off post, and this kid, instead of sleeping, he sat there for eight or nine hours and just stared at me making sure I was I mean literally just sat there staring at me smoking cigarettes making sure I was okay. The Robert he's talking about? That's Robert Zurheide. He'd be dead by nightfall. Zurheide was the nicest person I've ever met in my life. I don't know how he became a United States Marine but he was honestly the nicest person I've ever met in my fucking life. Like the dude just had a heart of gold. Unless you played cards and he cheated like crazy. And not that good either. That shit was annoying. But what do you call it? Zurheide was funny man and he was like nothing you've ever met in your life. This dude around a bunch of Marines damn well knowing what the reaction would be would put on Backstreet Boys and do like a choreographed practiced fucking dance that you would expect like the Backstreet Boys to do. So after like one hour two hours I don't remember exactly one hour two hours in that school we went back to those positions. Then I had a discussion with the NBC guys and I told them listen let's split up. I told them you know like because I think that you know if something's going to happen tonight or anytime it's going to happen in that school. So I would like to be there. He does a quick interview with the company commander around 5 p.m. What are the biggest challenges your men are facing here in Fallujah today? That's an easy one. The biggest challenges we're facing right now are just my men want to go into the city and attack the enemy. That's what Marines do. They're fired up. They want to go on the assault. So I've got to hold back on the range to keep them here. Keep them from doing that until we're given permission to do so. And of course I informed CNN headquarters in Atlanta that I will call them every two hours and in between I will be I had like I don't know four five extra batteries but I had no idea how long I'm going to stay in Fallujah. So I said listen I will not have it switched on. I will turn it on every two hours. And I mean right before we got to rest and the incident happened that I actually ran to go get the MREs and everything for us to eat. So I mean we ran out ran down the street hit up HQ grabbed the MREs came on back. I mean just a little simple resupply and then we went to stand two. And then I mean yeah right after that that's when everything went down. It was getting dark around after six after I make my phone call. It was getting dark and the school was on the top of a T intersection. There were some cars blown up. I saw some bodies in those cars and I noticed there were guys on that street running from one side of the street to another and they were dropping tires. Ran back into the other way. Then they rolled out another tire. We kept seeing guys setting up tires and they were doing what they used to do this to set up signal farms. So it helped them mortars. So as they were setting up the tires and shit our guys were shooting them. So we knew when attack was coming like we could see that they were preparing for an attack. So they told us to be at stand two. I forget what time that's usually like sunset because we were expecting the fight. So everyone was in gear we had that going for us. Where they were putting those tires up was the same house that shot the rocket at me that morning. We wanted that house gone. We were uh we were hanging out this picnic table that was just underneath an awning that was on the side of the courtyard. And some people were sitting down. I was standing. Shooter was standing and uh Shooter had gotten a mail package. Like he'd gotten some mail with some pictures and shit. So he was showing us pictures of his family and his friends and what the home which was Sacramento and Lake Tahoe. And uh earlier that day this is a little separate but it's connected. Earlier that day I was with Schmidt and I saw that he had pop tarts. So I started begging him for some pop tarts because we've we'd been in you know doing this you know doing this for like 10 days or whatever. You miss stupid things. And uh so the the we got done negotiating and I was like I the deal was I would give him an already freaked black and mild like you know when you pull out the inside paper of a black and mild and then you put it back together. I do not know. Is it like making a black but like. Well it's not making a blunt. I mean the principle is similar. Yes. But uh the black and milds are cheap but they suck in taste. If you take out the inside leaf though the taste is actually smooth as shit. It's something weird about black and milds that us poor kids figured out. So that was the deal as I would give him an already freaked black and mild in exchange for the pop tarts. And uh so while we're all bullshitting it was me, Doug Hianga, Brad Shooter, uh who was it Costello. Um I think that was it. And Smith walks over and he's like yo doc he's like where's my black and mild at. And I was like all right man let me let me go do that. I haven't done that yet. So like I'm walking away with Shooter and we're bullshitting about we're like finishing up our conversation about Tahoe. And I left him in the center of the courtyard as we ended our conversation and I went to walk into the fucking Casady collection point like our the Cormans room. And I had taken like not even two complete steps and uh like I remember seeing a flash in a corner of my eye and I looked back and the next thing I know I'm on the ground waking up. Like I blacked out. I got thrown across the room. I hit a wall. Uh I was wearing my helmet but I hit the wall head first. And uh fucking yeah I came to it was all fucking uh sorry I'm bugging a little bit I want to hit my weed. But uh uh it was like I could see nothing you know it was just dust and uh all I could hear was ringing extreme ringing both my ears. And then uh suddenly all of my hearing came back like the rush of a fucking train. It was like and then I could hear everything and it was just screaming me like the worst screaming you ever heard in your life. Ahead on taking cover that explosion what was it? We thought it was a Iraqi rocket and they just got lucky with a pinhole shot. One round. And the chaos the scramble to help the wounded amid a massive firefight. All hell broke loose. There was fire coming out of everywhere. There was a lot of machine gun fire. A lot of RPG fire. The building was shaking by some of the grenades that hit the building on the rockets. Here's the thing. This explosion at the schoolhouse in Fallujah it should be in the history books as the worst marine on marine friendly fire incident in decades. But it isn't. It's like it was scrubbed from the record. They said he died. I never knew his name. I can't find any document. He didn't go with me. Somebody took him out. Nowhere in this fucking investigation you see that as a sin. As we continue digging up parts of this story we have to wonder why did the Marine Corps keep all of this hidden for so long? Why are we the ones revealing what really happened to the very men who were there? I mean your instincts I think are correct. And those questions should be answered. But the worst thing in the world to happen is to break that bond of trust between us and the public. The mothers and fathers who send their sons to war. Taking Cover is created and reported by us, Graham Smith and Tom Bowman. Our producer is Chris Haxel. Robert Little is the editor with help from Kamala Kelker. To hear our next episode early, sign up for Embedded Plus at plus.npr.org slash embedded or find the Embedded channel in Apple. You'll be supporting our work and you'll get to listen to the entire episode. season sponsor-free. That's plus.npr.org slash embedded. And thanks to everyone who's already signed up and listening early. We have production help from Nick Nevis. Our music comes from Peter Duchesne, Rob Groswell, Brad Honeyman, and the Hump Muscle Rolling Circus. Sound design by Josh Rogazin and me, with help from Nick. This episode was engineered by Josh Newell. Our researcher is Barbara Van Workum. We've had additional editorial input from Leanna Simstrom, who is the Enterprise Storytelling Unit's supervising producer. Also from the supervising editor for Embedded, Katie Simon, as well as Christopher Turpin, Andrew Sussman, and Bruce Oster. We are also grateful for guidance and encouragement from Lisa Hagen, Chip Brantley, and Andrew Beck-Grace. Edith Chapin is the acting senior vice president of NPR News. Irene Noguchi is the executive producer of NPR's Enterprise Storytelling Unit. And Anja Grundman is a senior vice president for programming and audience development. We'd like to thank and acknowledge Eric Kneeler and Rick Loomis, journalists who were in Fallujah during the fighting in the spring of 2004, and who shared their recordings with us. And also NPR member station KPBS and CNN. And finally, thanks to the men who shared their stories with us, in addition to those named in the episode, we heard from Jason Duty, Tony Paz, Everett Watt, John Smith, Chris Covington, and Ben Wagner. We'll be hearing more from them ahead. One year ago, a white man came to a supermarket in Buffalo, New York. He just walked around and shot all the black people. How do you make sense of something this terrible when you're a kid? I think it was all my fault. Listen now to the latest series from NPR's Embedded podcast. This message comes from NPR sponsor ServiceNow. Today, businesses face tough choices. Do you cut costs or drive growth? With ServiceNow's intelligent platform for digital business, you can say yes to both. Visit ServiceNow.com to see how they can help you put yes to work. Support for this NPR podcast and the following message come from Stearns and Foster. Every Stearns and Foster mattress is handcrafted using the finest materials, like ultra-conforming and telecoil inner springs, for a beautiful mattress and indescribable comfort. Learn more at StearnsandFoster.com.\n"
     ]
    }
   ],
   "source": [
    "#5. Combine into one long text and print the full transcript\n",
    "full_transcript = \" \".join(transcripts)\n",
    "num_words = len(full_transcript.split(\" \"))\n",
    "print(f\"The number of words in this podcast is {num_words}\")\n",
    "print(full_transcript)"
   ]
  },
  {
   "attachments": {},
   "cell_type": "markdown",
   "metadata": {},
   "source": [
    "### 2. Summarization\n",
    "\n",
    "The following cells use the ChatGPT API to summarize over the transcript generated in the last section. The difficulty is that the transcript is often longer than the context window of the ChatGPT. The method used below sets a \"window size\" which is how much text is to be summarized over. Then the window \"slides\" over the text to summarize chunks. If the slide size equals the window size then there will be no overlap. If the slide size is less than the window size, there will be overlap in content of the summarized chunks. Window and slide size are defined on a number of words basis.\n",
    "\n",
    "The summarizer creates a bullet point list for each window and then finally combines them into one final list."
   ]
  },
  {
   "cell_type": "code",
   "execution_count": 232,
   "metadata": {},
   "outputs": [
    {
     "name": "stdout",
     "output_type": "stream",
     "text": [
      "For segment 1, 1357 prompt tokens were used, 422 tokens were used in the response for a total token count of 1779.\n",
      "For segment 2, 1348 prompt tokens were used, 352 tokens were used in the response for a total token count of 1700.\n",
      "For segment 3, 1366 prompt tokens were used, 192 tokens were used in the response for a total token count of 1558.\n",
      "For segment 4, 1386 prompt tokens were used, 162 tokens were used in the response for a total token count of 1548.\n",
      "For segment 5, 1359 prompt tokens were used, 222 tokens were used in the response for a total token count of 1581.\n",
      "For segment 6, 1299 prompt tokens were used, 224 tokens were used in the response for a total token count of 1523.\n",
      "For segment 7, 1284 prompt tokens were used, 271 tokens were used in the response for a total token count of 1555.\n",
      "For segment 8, 1328 prompt tokens were used, 233 tokens were used in the response for a total token count of 1561.\n",
      "For segment 9, 267 prompt tokens were used, 117 tokens were used in the response for a total token count of 384.\n"
     ]
    }
   ],
   "source": [
    "#Summarizing each segment over sliding window\n",
    "\n",
    "window_size = 1000   # 1000 word summarization window\n",
    "slide_size = 1000   # 1000 word slide\n",
    "num_windows = int(len(full_transcript.split(\" \"))/slide_size) + 1\n",
    "\n",
    "summaries = []\n",
    "\n",
    "for i in range(num_windows):\n",
    "    segment_text = \" \".join(full_transcript.split(\" \")[i*slide_size:i*slide_size+window_size])\n",
    "    initial_prompt = 'Please give me a detailed synopsis of the following text. Bullet point format must be used. Do not summarize over important details. Retain important names, places, and dates. Leave them as they were in the text. It is okay to be verbose or wordy in your synopsis to capture as much context as possible. I should be able to read the synopsis and have nearly the same understanding as if someone read the entire text. Please only respond to me with the bullet point synopsis. I don\\'t want an other commentary from you. \\n' + segment_text\n",
    "    second_prompt = 'Evaluate the last synopsis. Does it capture all the important details from the original text? Please re-write the synopsis so that all important details are captured. Keep the structure in bullet point format. No need to explain rationale to me. I only want the rewritten synopsis as a response.'\n",
    "    \n",
    "    summarize_response = openai.ChatCompletion.create(\n",
    "        api_key=API_KEY,\n",
    "        model='gpt-3.5-turbo',\n",
    "        messages=[\n",
    "            {'role': 'user',\n",
    "            'content': initial_prompt}\n",
    "        ]\n",
    "    )\n",
    "\n",
    "# The section below allows for the model to \"reflect\" over its summary. Uncomment it if you'd like this functionality\n",
    "\n",
    "    # chat_history = [\n",
    "    #     {'role': 'user',\n",
    "    #     'content': initial_prompt},\n",
    "    #     {'role': 'assistant',\n",
    "    #     'content': summarize_response.choices[0].message.content},\n",
    "    #     {'role': 'user',\n",
    "    #     'content': second_prompt}\n",
    "    # ]\n",
    "\n",
    "    # summarize_response = openai.ChatCompletion.create(\n",
    "    #     api_key=API_KEY,\n",
    "    #     model='gpt-3.5-turbo',\n",
    "    #     messages=chat_history\n",
    "    # )\n",
    "    \n",
    "    print(f\"For segment {i+1}, {summarize_response.usage.prompt_tokens} prompt tokens were used and {summarize_response.usage.completion_tokens} tokens were used in the response for a total token count of {summarize_response.usage.total_tokens}.\")\n",
    "    summaries.append(summarize_response.choices[0].message.content)"
   ]
  },
  {
   "cell_type": "code",
   "execution_count": 234,
   "metadata": {},
   "outputs": [
    {
     "name": "stdout",
     "output_type": "stream",
     "text": [
      "1770\n",
      "- NPR's new series, Taking Cover, is introduced by a White Lies co-host, Andy Grace, and co-hosted by Graham Smith, a producer for the first season of White Lies.\n",
      "- The series uncovers a cover-up of a friendly fire incident in Iraq in the spring of 2004, which NPR correspondent Tom Bowman approached Smith to help dig into.\n",
      "- Camp Pendleton in Southern California, the west coast home of the United States Marine Corps is described.\n",
      "- Hornow Ridge, a sharp hill covered with scrub trees and bushes that overlooks the Pacific Ocean on the edge of the camp is described.\n",
      "- Hornow Ridge has become a place of pilgrimage where Marines climb with memorials to honor their dead fallen. Scott Radetzky, a retired chaplain, helped get Hilltop Memorial started in the spring of 2003 to commemorate fallen marine in Iraq.\n",
      "- The hilltop memorial consisted of carrying telephone poles to the top of the ridge and bolting them together as a cross.\n",
      "- The idea was that the pain and suffering of carrying the cross up the hill would create a bond between the Marines, and the cross would be left at the top as a memorial.\n",
      "- Other Marines followed their lead and started contributing with keepsakes and mementos, and it became a field of crosses that grew each year with the wars in Iraq and Afghanistan.\n",
      "- The series investigates the death of a Marine that has always been a mystery, covered up by those in power to keep the American public and the families of those who died from hearing the truth.\n",
      "- The story is about mistakes, faulty assumptions, miscalculations, and lies that were covered up to hide the truth of what happened to the Marines.\n",
      "- The series is a story of efforts made by Tom Bowman and Graham Smith to learn about the lives lost and why families and even the men wounded still don't know the truth about what happened to them on the worst day of their lives.\n",
      "- The series includes interviews with Marines wounded that day and families of those killed, and explores the frustration and sadness of those still left without answers.\n",
      "- The narrator is a journalist who has been reporting on military matters for the past 25 years, and is walking along the E-ring (hallway) of a building when they learn of a friendly fire incident that was covered up during the Iraq War\n",
      "- The incident occurred in the spring of 2004 in Fallujah, and involved Marines dropping a mortar or rocket on their own people, killing one Marine and seriously wounding another\n",
      "- The incident was covered up because a powerful politician's son was involved in the incident\n",
      "- The journalist teams up with their colleague, Graham, to investigate the incident\n",
      "- They search online for casualties in Fallujah in April 2004, and find nearly 150 American troops were killed, 27 of them in Fallujah\n",
      "- They search through small town newspaper obituaries and press releases but do not find any mention of a friendly fire incident\n",
      "- They find two Marines, Robert Zurheide and Brad Schuter, who both died on the same day in the same unit, and whose memorial web pages say they were killed by friendly fire, but the military press releases said they were killed by hostile fire\n",
      "- The journalist files a records request with the Marines, but they receive a response saying there are no records on file about the incident\n",
      "- They file an appeal, but it is also rejected\n",
      "- The journalist starts asking around at the Pentagon and among active and retired officers who served in Iraq about the incident\n",
      "- They also search for grunts, or people who served in Echo Company, and search through books about the fight in Fallujah\n",
      "- They do not find any mention of a friendly fire incident, but the journalist believes there are other ways to uncover the truth.\n",
      "- The narrator is searching for information about what happened on April 12th in Fallujah.\n",
      "- A clue she finds is a picture of Corporal Gomez Perez on a memorial webpage with the information that he was with Echo 2-1.\n",
      "- The narrator calls Carlos Gomez Perez, who was also part of Echo Company and served with Jose Gutierrez.\n",
      "- Carlos shares his story of growing up undocumented and joining the Marines as soon as he became a U.S. resident.\n",
      "- He was recognized for his valor in combat with a Silver Star but struggled with physical and mental injuries upon returning home.\n",
      "- April, the month in which the incident occurred, still affects him emotionally and has impacted his family as well.\n",
      "- Carlos keeps in touch with his Marine buddies and helps the narrator get in touch with Ben Liotta, a navy battlefield medic for the Marines who was present during the explosion.\n",
      "- The narrator interviews Ben Liotta about his experience during the incident.\n",
      "- Doug Zembeck, the captain of Echo company, wrote a letter to his wife in April 2004 about a friendly fire incident that killed two Marines.\n",
      "- The letter reveals that Zembeck knew immediately that it was friendly fire and that the families were not notified in a timely manner.\n",
      "- Benjamin Leota, a former Marine, is interviewed along with others to try and uncover what happened in Echo company.\n",
      "- Bill Skiles, a retired Sergeant major who served under Zembeck, recounts his experience in Fallujah where the Marines were expected to win the hearts and minds of the Iraqi people.\n",
      "- The Marines were led by General James Mattis, who later served as defense secretary under Trump.\n",
      "- The Marines arrived in Fallujah in March and were tasked with taking over from the Army.\n",
      "- Fallujah locals were not interested in receiving help from the Army unit, the 82nd Airborne, who had previously used heavy-handed tactics.\n",
      "- Marines were sent to replace the 82nd Airborne and did not know what to expect on arrival.\n",
      "- The Army was known for reckless driving and shooting without proper identification.\n",
      "- The Marines initially prepared for peaceful interaction.\n",
      "- Insurgents took advantage of the Army's actions to recruit fighters against them.\n",
      "- The Marines patrolled on foot, and people's attitudes changed, expressing hate and hostility towards them.\n",
      "- A mortar attack occurred when the Marines took over Fallujah, injuring 13 Americans.\n",
      "- The Marines lost their first man the next day when an insurgent fired a rocket propelled grenade at a Marine truck.\n",
      "- General Mattis ordered a revenge attack and gave non-combatants the opportunity to leave.\n",
      "- Civilians warned the Marines of an impending attack.\n",
      "- Eric Elrod was shot, making the situation feel less like a game.\n",
      "- The Marine offensive made mosques and prayers sparse in Fallujah.\n",
      "- Some insurgents were killed.\n",
      "- ABC reports on the killing of four American civilians in Fallujah, Iraq by insurgents\n",
      "- The brutal attack is met with celebration by locals\n",
      "- The mangled and charred remains of Blackwater contractors hanging off a bridge flash across TV screens around the world\n",
      "- The White House doubles down and orders the Marines to clear Fallujah\n",
      "- General Mattis is forced to drop the velvet glove and the mission becomes search and destroy\n",
      "- Captain Zembeck motivates the men, saying they are fighting for their brothers and the American flag\n",
      "- The Marines push into Fallujah for more than a week, engaging in house-to-house fighting and blowing up buildings\n",
      "- Al Jazeera broadcasts brutal images of hospitals crowded with dead and wounded civilians, including women and children, and other networks run footage too\n",
      "- Iraqi politicians threaten to resign if the Americans don't stop the assault\n",
      "- The White House orders the Marines to cease fire, but the insurgents continue to engage in gunfights with US forces\n",
      "- The Marines hunker down at a schoolhouse, where CNN's Tomasz Etzler joins them.\n",
      "- The narrator and his team were in Fallujah and were preparing for a potential attack, including sandbagging windows and engines.\n",
      "- They received word that they would be attacked at night and were on high alert.\n",
      "- The school they were stationed in was hit by an RPG earlier in the day.\n",
      "- The narrator was blown up while sitting in a window and a fellow Marine, Robert Zurheide, stayed with him to make sure he was okay.\n",
      "- The narrator described Zurheide as the nicest person he had ever met, except for when he cheated at cards.\n",
      "- Zurheide would later be killed that night.\n",
      "- At nightfall, the narrator and his team were stationed at the school and split up to keep watch.\n",
      "- The narrator did an interview with CNN and informed them that he would check in every two hours.\n",
      "- As it got dark, the team noticed people setting up tires which were used for signal farms and mortar attacks.\n",
      "- They were stationed at stand two and were prepared for a fight.\n",
      "- They were situated near a house which had fired a rocket at the narrator earlier in the day and they wanted it gone.\n",
      "- The team was sitting at a picnic table when one of them showed pictures of his family and friends.\n",
      "- The narrator had previously begged another Marine for his pop tarts earlier in the day.\n",
      "- The narrator and several other Marines are negotiating for Pop Tarts and Black and Milds\n",
      "- At one point, the narrator goes to retrieve a Black and Mild for a friend and is suddenly thrown across the room by an explosion\n",
      "- The explosion was caused by friendly fire from another group of Marines\n",
      "- The incident should be in the history books as the worst Marine on Marine friendly fire incident in decades, but it has been scrubbed from the records\n",
      "- The narrator and his team are left to wonder why the Marine Corps kept this hidden for so long and why they are the ones revealing the truth to the public\n",
      "- The podcast is called \"Taking Cover\" and is produced by Graham Smith and Tom Bowman, with production help from Nick Nevis\n",
      "- The episode was engineered by Josh Newell and features music from several artists\n",
      "- The episode includes additional editorial input from several people, including Leanna Simstrom, Katie Simon, and Andrew Sussman\n",
      "- The episode thanks several journalists, NPR stations, and Marines who shared their stories\n",
      "- The episode ends abruptly with an unrelated topic being introduced, which may suggest that the text is incomplete or truncated\n",
      "- The text is a promotion for NPR's Embedded podcast, which has a new series.\n",
      "- The speaker in the text is reflecting on a terrible event from their childhood.\n",
      "- The event may have been the speaker's fault.\n",
      "- The promotion includes messages from sponsors ServiceNow and Stearns and Foster. \n",
      "- ServiceNow offers an intelligent platform for digital business that can help businesses cut costs and drive growth.\n",
      "- Stearns and Foster make handcrafted mattresses using high-quality materials for comfort. \n",
      "- More information about their products can be found at StearnsandFoster.com.\n"
     ]
    }
   ],
   "source": [
    "# Look at the total summaries across chunks\n",
    "total_response = \"\\n\".join(summaries)\n",
    "print(total_response)"
   ]
  },
  {
   "cell_type": "code",
   "execution_count": 250,
   "metadata": {},
   "outputs": [],
   "source": [
    "# Combine the summaries into a hierarchical, organized list.\n",
    "combine_response = openai.ChatCompletion.create(\n",
    "    api_key=API_KEY,\n",
    "    model='gpt-3.5-turbo',\n",
    "    messages=[\n",
    "        {'role': 'user',\n",
    "        'content': 'Please combine all the bullet points in the following list into an organized, hierarchical list that makes sense. Retain names, places, and dates. The bullets are aggregated from summaries over mutlitple sections of a full article and are organized in the order that the article was written. The organization of your list should take into context all of the bullet points in the list I provide. \\n\\n' + total_response}\n",
    "    ]\n",
    ")"
   ]
  },
  {
   "cell_type": "code",
   "execution_count": 252,
   "metadata": {},
   "outputs": [
    {
     "name": "stdout",
     "output_type": "stream",
     "text": [
      "I. Introduction \n",
      "- NPR's new podcast series, Taking Cover, is co-hosted by Andy Grace and Graham Smith\n",
      "- The series will uncover a cover-up of a friendly fire incident in Iraq in 2004\n",
      " \n",
      "II. Setting the Stage\n",
      "- Camp Pendleton in Southern California, the west coast home of the United States Marine Corps is described\n",
      "- Hornow Ridge is described as a place of pilgrimage where Marines climb with memorials to honor their fallen\n",
      " \n",
      "III. Investigating the Incident\n",
      "- The story is about mistakes, faulty assumptions, miscalculations, and lies that were covered up to hide the truth of what happened to the Marines\n",
      "- The series includes interviews with Marines wounded that day and families of those killed, and explores the frustration and sadness of those still left without answers\n",
      "- The journalist teams up with their colleague, Graham, to investigate the incident\n",
      "- The Marines initially prepared for peaceful interaction with Fallujah locals\n",
      "- The Marines were led by General James Mattis, who later served as defense secretary under Trump\n",
      "- The Marines push into Fallujah for more than a week, engaging in house-to-house fighting and blowing up buildings\n",
      "- The series investigates the death of a Marine that has always been a mystery, covered up by those in power to keep the American public and the families of those who died from hearing the truth\n",
      " \n",
      "IV. Searching for Truth\n",
      "- The narrator is searching for information about what happened on April 12th in Fallujah\n",
      "- The journalist files a record request with the Marines, but they receive a response saying there are no records on file about the incident\n",
      "- The journalist starts asking around at the Pentagon and among active and retired officers who served in Iraq about the incident\n",
      " \n",
      "V. Tracing the Story\n",
      "- The narrator found a clue and interviewed Carlos Gomez Perez who served with Jose Gutierrez\n",
      "- The Marines lost their first man the next day when an insurgent fired a rocket propelled grenade at a Marine truck\n",
      "- Doug Zembeck, the captain of Echo company, wrote a letter to his wife in April 2004 about a friendly fire incident that killed two Marines\n",
      "\n",
      "VI. Marine on Marine Friendly Fire\n",
      "- The incident occurred in Fallujah on April 18th, 2004 and was caused by friendly fire from another group of Marines\n",
      "- The narrator and his team are left to wonder why the Marine Corps kept this hidden for so long and why they are the ones revealing the truth to the public\n",
      " \n",
      "VII. Conclusion\n",
      "- The podcast is called \"Taking Cover\" and is produced by Graham Smith and Tom Bowman with additional input from Leanna Simstrom, Katie Simon, and Andrew Sussman\n",
      "- The episode includes additional editorial input from several people, and thanks several journalists, NPR stations, and Marines who shared their stories\n"
     ]
    }
   ],
   "source": [
    "# Print results of combined results\n",
    "print(combine_response.choices[0].message.content)"
   ]
  }
 ],
 "metadata": {
  "kernelspec": {
   "display_name": "Python 3",
   "language": "python",
   "name": "python3"
  },
  "language_info": {
   "codemirror_mode": {
    "name": "ipython",
    "version": 3
   },
   "file_extension": ".py",
   "mimetype": "text/x-python",
   "name": "python",
   "nbconvert_exporter": "python",
   "pygments_lexer": "ipython3",
   "version": "3.10.7"
  },
  "orig_nbformat": 4
 },
 "nbformat": 4,
 "nbformat_minor": 2
}
